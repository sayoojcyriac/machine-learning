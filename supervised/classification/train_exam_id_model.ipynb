{
 "cells": [
  {
   "cell_type": "code",
   "execution_count": 9,
   "id": "f5116e41",
   "metadata": {},
   "outputs": [],
   "source": [
    "# Import necessary libraries\n",
    "import pandas as pd\n",
    "import numpy as np\n",
    "import scipy\n",
    "import joblib\n",
    "import nltk\n",
    "from nltk.stem import WordNetLemmatizer\n",
    "from sklearn.model_selection import train_test_split\n",
    "from sklearn.feature_extraction.text import TfidfVectorizer\n",
    "from sklearn.preprocessing import OneHotEncoder\n",
    "from sklearn.linear_model import LogisticRegression\n",
    "from sklearn.metrics import classification_report\n",
    "from sklearn.compose import ColumnTransformer\n",
    "from sklearn.pipeline import Pipeline\n",
    "import os"
   ]
  },
  {
   "cell_type": "code",
   "execution_count": 10,
   "id": "328de245",
   "metadata": {},
   "outputs": [
    {
     "name": "stderr",
     "output_type": "stream",
     "text": [
      "[nltk_data] Downloading package wordnet to\n",
      "[nltk_data]     /Users/sayoojcyriac/nltk_data...\n",
      "[nltk_data]   Package wordnet is already up-to-date!\n"
     ]
    }
   ],
   "source": [
    "# Download NLTK data for lemmatization\n",
    "nltk.download('wordnet')\n",
    "\n",
    "# Initialize lemmatizer\n",
    "lemmatizer = WordNetLemmatizer()"
   ]
  },
  {
   "cell_type": "code",
   "execution_count": 11,
   "id": "a2028d12",
   "metadata": {},
   "outputs": [],
   "source": [
    "# Function to apply lemmatization on StudyDescription\n",
    "def lemmatize_text(text):\n",
    "    if isinstance(text, str):\n",
    "        words = text.split()\n",
    "        return ' '.join([lemmatizer.lemmatize(word) for word in words])\n",
    "    return ''"
   ]
  },
  {
   "cell_type": "code",
   "execution_count": 12,
   "id": "c3f8ce96",
   "metadata": {},
   "outputs": [],
   "source": [
    "# Load the dataset\n",
    "# Update the file_path to the location of your dataset\n",
    "file_path = './ExamTypeIdentifier.xlsx'  # Replace with your actual file path\n",
    "data = pd.read_excel(file_path)"
   ]
  },
  {
   "cell_type": "code",
   "execution_count": 13,
   "id": "eb830278",
   "metadata": {},
   "outputs": [
    {
     "name": "stdout",
     "output_type": "stream",
     "text": [
      "First 5 rows of the dataset:\n",
      "                                    StudyDescription Modality  OutcomeClass\n",
      "0  CT CT CHEST INFUSION PULM EMBOL CT INFUSION PU...       CT      CT_CHEST\n",
      "1  CT PULM CT CHEST INFUSION PULM EMBOL CT CHEST ...       CT  CT_PULMONARY\n",
      "2                 CT INFUSION PULM CT ABD CT ABDO CT       CT    CT_ABDOMEN\n",
      "3    CT PUL CT ABD CT INFUSION PULM EMBOLCT CHEST CT       CT  CT_PULMONARY\n",
      "4  CT ABDOM CT ABD CT CHEST INFUSION PULM EMBOL C...       CT    CT_ABDOMEN\n"
     ]
    }
   ],
   "source": [
    "# Display the first few rows of the data\n",
    "print(\"First 5 rows of the dataset:\")\n",
    "print(data.head())"
   ]
  },
  {
   "cell_type": "code",
   "execution_count": 16,
   "id": "89e5952f",
   "metadata": {},
   "outputs": [
    {
     "name": "stderr",
     "output_type": "stream",
     "text": [
      "[nltk_data] Downloading package omw-1.4 to\n",
      "[nltk_data]     /Users/sayoojcyriac/nltk_data...\n",
      "[nltk_data] Downloading package wordnet to\n",
      "[nltk_data]     /Users/sayoojcyriac/nltk_data...\n",
      "[nltk_data]   Package wordnet is already up-to-date!\n"
     ]
    },
    {
     "data": {
      "text/plain": [
       "True"
      ]
     },
     "execution_count": 16,
     "metadata": {},
     "output_type": "execute_result"
    }
   ],
   "source": [
    "import nltk\n",
    "\n",
    "# Download the necessary NLTK resource\n",
    "nltk.download('omw-1.4')\n",
    "nltk.download('wordnet')"
   ]
  },
  {
   "cell_type": "code",
   "execution_count": 17,
   "id": "afb90cc1",
   "metadata": {},
   "outputs": [],
   "source": [
    "# Apply lemmatization to the StudyDescription column\n",
    "data['StudyDescription'] = data['StudyDescription'].apply(lemmatize_text)"
   ]
  },
  {
   "cell_type": "code",
   "execution_count": 18,
   "id": "5f1941a2",
   "metadata": {},
   "outputs": [],
   "source": [
    "# Features and Target\n",
    "X = data[['StudyDescription', 'Modality']]\n",
    "y = data['OutcomeClass']"
   ]
  },
  {
   "cell_type": "code",
   "execution_count": 19,
   "id": "22bd1b63",
   "metadata": {},
   "outputs": [],
   "source": [
    "# Split the dataset into training and testing sets\n",
    "# Adjust test_size as needed\n",
    "X_train, X_test, y_train, y_test = train_test_split(\n",
    "    X, y, test_size=0.2, random_state=42, stratify=y\n",
    ")"
   ]
  },
  {
   "cell_type": "code",
   "execution_count": 20,
   "id": "e3c8906a",
   "metadata": {},
   "outputs": [],
   "source": [
    "# Define the preprocessing steps for each column\n",
    "preprocessor = ColumnTransformer(\n",
    "    transformers=[\n",
    "        ('tfidf', TfidfVectorizer(max_features=500), 'StudyDescription'),\n",
    "        ('onehot', OneHotEncoder(handle_unknown='ignore'), ['Modality'])\n",
    "    ]\n",
    ")"
   ]
  },
  {
   "cell_type": "code",
   "execution_count": 21,
   "id": "a561542c",
   "metadata": {},
   "outputs": [],
   "source": [
    "# Create a pipeline that first preprocesses the data and then applies LogisticRegression\n",
    "pipeline = Pipeline(steps=[\n",
    "    ('preprocessor', preprocessor),\n",
    "    ('classifier', LogisticRegression(max_iter=1000, random_state=42))\n",
    "])"
   ]
  },
  {
   "cell_type": "code",
   "execution_count": 22,
   "id": "cb247882",
   "metadata": {},
   "outputs": [
    {
     "data": {
      "text/plain": [
       "Pipeline(steps=[('preprocessor',\n",
       "                 ColumnTransformer(transformers=[('tfidf',\n",
       "                                                  TfidfVectorizer(max_features=500),\n",
       "                                                  'StudyDescription'),\n",
       "                                                 ('onehot',\n",
       "                                                  OneHotEncoder(handle_unknown='ignore'),\n",
       "                                                  ['Modality'])])),\n",
       "                ('classifier',\n",
       "                 LogisticRegression(max_iter=1000, random_state=42))])"
      ]
     },
     "execution_count": 22,
     "metadata": {},
     "output_type": "execute_result"
    }
   ],
   "source": [
    "# Train the LogisticRegression model\n",
    "pipeline.fit(X_train, y_train)"
   ]
  },
  {
   "cell_type": "code",
   "execution_count": 23,
   "id": "66054152",
   "metadata": {},
   "outputs": [],
   "source": [
    "# Make predictions on the test set\n",
    "y_pred = pipeline.predict(X_test)"
   ]
  },
  {
   "cell_type": "code",
   "execution_count": 24,
   "id": "ff61c0ef",
   "metadata": {},
   "outputs": [
    {
     "name": "stdout",
     "output_type": "stream",
     "text": [
      "\n",
      "Classification Report for LogisticRegression:\n",
      "              precision    recall  f1-score   support\n",
      "\n",
      "  CT_ABDOMEN       0.60      0.75      0.67         4\n",
      "    CT_CHEST       0.67      0.67      0.67         3\n",
      "CT_PULMONARY       0.00      0.00      0.00         3\n",
      "\n",
      "    accuracy                           0.50        10\n",
      "   macro avg       0.42      0.47      0.44        10\n",
      "weighted avg       0.44      0.50      0.47        10\n",
      "\n"
     ]
    }
   ],
   "source": [
    "# Generate the classification report\n",
    "report = classification_report(y_test, y_pred)\n",
    "print(\"\\nClassification Report for LogisticRegression:\")\n",
    "print(report)"
   ]
  },
  {
   "cell_type": "code",
   "execution_count": 25,
   "id": "135096cc",
   "metadata": {},
   "outputs": [
    {
     "name": "stdout",
     "output_type": "stream",
     "text": [
      "\n",
      "Trained model and preprocessors saved to 'trained_logistic_model.pkl'\n"
     ]
    }
   ],
   "source": [
    "# Save the trained pipeline (which includes the model and preprocessors)\n",
    "model_file_path = 'trained_logistic_model.pkl'  # You can change the path as needed\n",
    "joblib.dump(pipeline, model_file_path)\n",
    "print(f\"\\nTrained model and preprocessors saved to '{model_file_path}'\")"
   ]
  },
  {
   "cell_type": "code",
   "execution_count": null,
   "id": "ca83a66e",
   "metadata": {},
   "outputs": [],
   "source": []
  }
 ],
 "metadata": {
  "kernelspec": {
   "display_name": "Python 3 (ipykernel)",
   "language": "python",
   "name": "python3"
  },
  "language_info": {
   "codemirror_mode": {
    "name": "ipython",
    "version": 3
   },
   "file_extension": ".py",
   "mimetype": "text/x-python",
   "name": "python",
   "nbconvert_exporter": "python",
   "pygments_lexer": "ipython3",
   "version": "3.9.7"
  }
 },
 "nbformat": 4,
 "nbformat_minor": 5
}
