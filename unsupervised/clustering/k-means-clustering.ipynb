{
 "cells": [
  {
   "cell_type": "code",
   "execution_count": 66,
   "id": "2e9ee210",
   "metadata": {},
   "outputs": [],
   "source": [
    "import numpy as np\n",
    "import pandas as pd\n",
    "from sklearn.datasets import make_blobs\n",
    "from sklearn.cluster import KMeans\n",
    "from sklearn.metrics import silhouette_score\n",
    "from sklearn.decomposition import PCA\n",
    "import matplotlib.pyplot as plt\n",
    "import seaborn as sns"
   ]
  },
  {
   "cell_type": "code",
   "execution_count": 67,
   "id": "36b51779",
   "metadata": {},
   "outputs": [],
   "source": [
    "# Generate random data\n",
    "def generate_data(n_samples=100, n_features=10):\n",
    "    data, _ = make_blobs(n_samples=n_samples, n_features=n_features, centers=5, cluster_std=1.0, random_state=42)\n",
    "    return data\n",
    "\n",
    "data = generate_data()"
   ]
  },
  {
   "cell_type": "code",
   "execution_count": 68,
   "id": "6d6fafde",
   "metadata": {},
   "outputs": [
    {
     "data": {
      "image/png": "[encoded data removed]",
      "text/plain": [
       "<Figure size 432x288 with 1 Axes>"
      ]
     },
     "metadata": {
      "needs_background": "light"
     },
     "output_type": "display_data"
    },
    {
     "name": "stdout",
     "output_type": "stream",
     "text": [
      "Optimal number of clusters determined by Elbow Method: 8\n"
     ]
    }
   ],
   "source": [
    "# Determine the optimal number of clusters using the Elbow Method\n",
    "def determine_optimal_clusters(data, max_k=10):\n",
    "    inertia = []\n",
    "    for k in range(1, max_k + 1):\n",
    "        kmeans = KMeans(n_clusters=k, random_state=42)\n",
    "        kmeans.fit(data)\n",
    "        inertia.append(kmeans.inertia_)\n",
    "    \n",
    "    plt.figure()\n",
    "    plt.plot(range(1, max_k + 1), inertia, marker='o')\n",
    "    plt.xlabel('Number of Clusters')\n",
    "    plt.ylabel('Inertia')\n",
    "    plt.title('Elbow Method')\n",
    "    plt.show()\n",
    "    \n",
    "    # Return the optimal number of clusters based on the elbow point\n",
    "    optimal_k = np.argmax(np.diff(inertia)) + 2  # Adding 2 because diff reduces the length by 1\n",
    "    return optimal_k\n",
    "\n",
    "optimal_k = determine_optimal_clusters(data)\n",
    "print(f'Optimal number of clusters determined by Elbow Method: {optimal_k}')"
   ]
  },
  {
   "cell_type": "code",
   "execution_count": 69,
   "id": "69bb0315",
   "metadata": {},
   "outputs": [
    {
     "data": {
      "text/plain": [
       "KMeans(n_clusters=5, random_state=42)"
      ]
     },
     "execution_count": 69,
     "metadata": {},
     "output_type": "execute_result"
    }
   ],
   "source": [
    "# Initial clustering with optimal number of clusters\n",
    "kmeans = KMeans(n_clusters=5, random_state=42)\n",
    "kmeans.fit(data)"
   ]
  },
  {
   "cell_type": "code",
   "execution_count": 70,
   "id": "e99e5064",
   "metadata": {},
   "outputs": [],
   "source": [
    "# Dynamic clustering with optimal number of clusters\n",
    "def update_clusters(kmeans, new_data):\n",
    "    # Append new data to the existing data\n",
    "    updated_data = np.vstack([kmeans.cluster_centers_, new_data])\n",
    "    \n",
    "    # Refit the KMeans model with the updated data\n",
    "    kmeans = KMeans(n_clusters=kmeans.n_clusters, random_state=42)\n",
    "    kmeans.fit(updated_data)\n",
    "    \n",
    "    return kmeans"
   ]
  },
  {
   "cell_type": "code",
   "execution_count": 71,
   "id": "0bf00dfb",
   "metadata": {},
   "outputs": [],
   "source": [
    "def user_accepts_prediction():\n",
    "    # Simulate user interaction (for POC, randomly accept or decline)\n",
    "    return np.random.choice([True, False])"
   ]
  },
  {
   "cell_type": "code",
   "execution_count": 72,
   "id": "e9ce41a7",
   "metadata": {},
   "outputs": [],
   "source": [
    "def process_new_data(kmeans, new_data):\n",
    "    # Predict the cluster for new data\n",
    "    predictions = kmeans.predict(new_data)\n",
    "    \n",
    "    # For each new data point, ask the user to accept or decline the prediction\n",
    "    feedback_data = []\n",
    "    feedback_labels = []\n",
    "    \n",
    "    for i, data_point in enumerate(new_data):\n",
    "        prediction = predictions[i]\n",
    "        print(f\"Data Point: {data_point}, Predicted Cluster: {prediction}\")\n",
    "        \n",
    "        if user_accepts_prediction():\n",
    "            print(\"User accepted the prediction.\")\n",
    "            feedback_data.append(data_point)\n",
    "            feedback_labels.append(prediction)\n",
    "        else:\n",
    "            print(\"User declined the prediction.\")\n",
    "            # Handle declined prediction (e.g., consider it as a potential new cluster)\n",
    "            new_cluster_center = data_point\n",
    "            feedback_data.append(new_cluster_center)\n",
    "            feedback_labels.append(len(set(kmeans.labels_)) + 1)\n",
    "    \n",
    "    return np.array(feedback_data), np.array(feedback_labels)"
   ]
  },
  {
   "cell_type": "code",
   "execution_count": 73,
   "id": "90d806c2",
   "metadata": {},
   "outputs": [],
   "source": [
    "# Simulate new incoming data\n",
    "new_data = generate_data(n_samples=10)"
   ]
  },
  {
   "cell_type": "code",
   "execution_count": 74,
   "id": "9bda06d2",
   "metadata": {},
   "outputs": [
    {
     "name": "stdout",
     "output_type": "stream",
     "text": [
      "Data Point: [ 0.7355263  -7.01016285 -9.04168266  8.17543348  9.15135495  6.57199782\n",
      " -2.02153872 -7.87197991  3.94221092 -1.27139604], Predicted Cluster: 2\n",
      "User accepted the prediction.\n",
      "Data Point: [-10.06748435   9.21253807   5.54251784  -6.94942441  -5.55097483\n",
      "  -4.97566977  -3.98716526   1.49866153  -0.9994636   -4.82053695], Predicted Cluster: 4\n",
      "User declined the prediction.\n",
      "Data Point: [ 2.01738601 -6.85301022 -2.67921298 -3.19103335 -1.68709392  5.20176218\n",
      " -5.09112224  0.61343988  1.31853117 -8.55772431], Predicted Cluster: 3\n",
      "User declined the prediction.\n",
      "Data Point: [ 2.33413544 -6.2414778  -4.85916012 -3.00042528 -1.27070847  4.24000428\n",
      " -5.71040408  0.54574404  1.85340483 -9.30557888], Predicted Cluster: 3\n",
      "User declined the prediction.\n",
      "Data Point: [-2.18511365  8.62920385  3.96295684  2.58484597 -5.84862767 -5.94882947\n",
      " -9.67754528  7.01431054  2.35356367  5.13699668], Predicted Cluster: 1\n",
      "User declined the prediction.\n",
      "Data Point: [-1.77073104  9.18565441  4.52423055  1.67206599 -8.35814918 -7.5999538\n",
      " -9.29896653  8.38064514  2.36591852  2.3984114 ], Predicted Cluster: 1\n",
      "User declined the prediction.\n",
      "Data Point: [ 0.23212582 -6.6160314  -8.63873793 11.44095286  9.1202797   6.4694943\n",
      " -3.94243639 -9.21523576  4.82748334 -0.44501709], Predicted Cluster: 2\n",
      "User declined the prediction.\n",
      "Data Point: [-9.22691451 10.93623361  6.61302678 -4.18857413 -8.98324576 -5.5100073\n",
      " -3.82810807  0.19612128 -1.26933885 -6.16298611], Predicted Cluster: 4\n",
      "User accepted the prediction.\n",
      "Data Point: [-6.76820336 -1.00584925 -7.90943527  6.78455698 -4.23754327  5.44090131\n",
      " -4.7563148  -0.16493731  1.03385695 -6.80638654], Predicted Cluster: 0\n",
      "User declined the prediction.\n",
      "Data Point: [ -9.10989873  -0.02789882 -10.37453329   8.66000047  -5.7438246\n",
      "   4.80038009  -4.54903177   0.07929891   1.7477228   -7.53377521], Predicted Cluster: 0\n",
      "User declined the prediction.\n"
     ]
    }
   ],
   "source": [
    "# Process new data and get user feedback\n",
    "feedback_data, feedback_labels = process_new_data(kmeans, new_data)"
   ]
  },
  {
   "cell_type": "code",
   "execution_count": 75,
   "id": "9557ef92",
   "metadata": {},
   "outputs": [],
   "source": [
    "# Update clusters with user feedback\n",
    "def retrain_model_with_feedback(kmeans, feedback_data, feedback_labels):\n",
    "    # Combine existing data with feedback data\n",
    "    combined_data = np.vstack([data, feedback_data])\n",
    "    combined_labels = np.hstack([kmeans.labels_, feedback_labels])\n",
    "    \n",
    "    # Refit the KMeans model with combined data\n",
    "    kmeans = KMeans(n_clusters=len(set(combined_labels)), random_state=42)\n",
    "    kmeans.fit(combined_data)\n",
    "    \n",
    "    return kmeans, combined_data, combined_labels\n",
    "\n",
    "kmeans, combined_data, combined_labels = retrain_model_with_feedback(kmeans, feedback_data, feedback_labels)"
   ]
  },
  {
   "cell_type": "code",
   "execution_count": 76,
   "id": "53cca376",
   "metadata": {},
   "outputs": [
    {
     "name": "stdout",
     "output_type": "stream",
     "text": [
      "Silhouette Score: 0.6352461212677395\n"
     ]
    }
   ],
   "source": [
    "# Measure the silhouette score\n",
    "sil_score = silhouette_score(data, kmeans.labels_[:len(data)])\n",
    "print(f'Silhouette Score: {sil_score}')"
   ]
  },
  {
   "cell_type": "code",
   "execution_count": 77,
   "id": "08cb1d61",
   "metadata": {},
   "outputs": [
    {
     "data": {
      "image/png": "[encoded data removed]",
      "text/plain": [
       "<Figure size 720x576 with 1 Axes>"
      ]
     },
     "metadata": {
      "needs_background": "light"
     },
     "output_type": "display_data"
    }
   ],
   "source": [
    "# Dimensionality reduction for visualization\n",
    "pca = PCA(n_components=2)\n",
    "data_reduced = pca.fit_transform(data)\n",
    "\n",
    "# Plotting K-Means clusters\n",
    "def plot_kmeans_clusters(data, kmeans, data_reduced):\n",
    "    plt.figure(figsize=(10, 8))\n",
    "    sns.scatterplot(x=data_reduced[:, 0], y=data_reduced[:, 1], hue=kmeans.labels_[:len(data)], palette='viridis')\n",
    "    reduced_centers = pca.transform(kmeans.cluster_centers_)\n",
    "    plt.scatter(reduced_centers[:, 0], reduced_centers[:, 1], s=300, c='red', label='Centroids')\n",
    "    plt.title('K-Means Clusters')\n",
    "    plt.xlabel('Principal Component 1')\n",
    "    plt.ylabel('Principal Component 2')\n",
    "    plt.legend()\n",
    "    plt.show()\n",
    "\n",
    "plot_kmeans_clusters(data, kmeans, data_reduced)"
   ]
  },
  {
   "cell_type": "code",
   "execution_count": null,
   "id": "fee6f929",
   "metadata": {},
   "outputs": [],
   "source": []
  }
 ],
 "metadata": {
  "kernelspec": {
   "display_name": "Python 3 (ipykernel)",
   "language": "python",
   "name": "python3"
  },
  "language_info": {
   "codemirror_mode": {
    "name": "ipython",
    "version": 3
   },
   "file_extension": ".py",
   "mimetype": "text/x-python",
   "name": "python",
   "nbconvert_exporter": "python",
   "pygments_lexer": "ipython3",
   "version": "3.9.7"
  }
 },
 "nbformat": 4,
 "nbformat_minor": 5
}
